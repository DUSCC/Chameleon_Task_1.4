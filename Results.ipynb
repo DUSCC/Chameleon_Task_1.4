{
 "cells": [
  {
   "cell_type": "markdown",
   "id": "f3e67f51",
   "metadata": {},
   "source": [
    "# Chameleon Assignment"
   ]
  },
  {
   "cell_type": "markdown",
   "id": "0f6d07d0",
   "metadata": {
    "pycharm": {
     "name": "#%% md\n"
    }
   },
   "source": [
    "## Results\n",
    "\n",
    "![Iperf](results_isolated_net.png)"
   ]
  },
  {
   "cell_type": "markdown",
   "id": "f1bf6964",
   "metadata": {
    "pycharm": {
     "name": "#%% md\n"
    }
   },
   "source": [
    "## Reproducing\n",
    "\n",
    "- Set up nodes using either node_setup.py if you have access to our project, or by following the notebook set up instructions below.\n",
    "- If you are using a stock image you need to manually install iperf3 on both nodes.\n",
    "- On one compute node run user@cnode1> iperf3 -s, on the other run user@cnode2> iperf3 -c $CNODE1_IP_OR_HOSTNAME -J > results.json, then store the file.\n",
    "- Replace the contents of results_closed_network.json in the artifact with your results and run the plotting cell at the bottom.\n",
    "\n",
    "## Set up nodes from this notebook.\n",
    "\n",
    "### Generic project set up"
   ]
  },
  {
   "cell_type": "code",
   "execution_count": 1,
   "id": "b5753b73",
   "metadata": {
    "pycharm": {
     "name": "#%%\n"
    }
   },
   "outputs": [
    {
     "name": "stdout",
     "output_type": "stream",
     "text": [
      "Now using CHI@Purdue:\n",
      "URL: https://chi.rcac.purdue.edu\n",
      "Location: None\n",
      "Support contact: help@chameleoncloud.org\n"
     ]
    }
   ],
   "source": [
    "import chi\n",
    "\n",
    "# project set up\n",
    "chi.set('project_name', 'CHI-221014')\n",
    "chi.use_site('CHI@Purdue')"
   ]
  },
  {
   "cell_type": "markdown",
   "id": "6aac73d3",
   "metadata": {
    "pycharm": {
     "name": "#%% md\n"
    }
   },
   "source": [
    "### Isolated Network\n",
    "\n",
    "It is likely that the network already exists in our project, however if this is not the case then it will be created. If you get the IpAddressGenerationFailureClient error on router creation, this will be because you are limited to 1 router and you probably already a router reserved."
   ]
  },
  {
   "cell_type": "code",
   "execution_count": null,
   "id": "deb3d0b0",
   "metadata": {
    "pycharm": {
     "is_executing": true,
     "name": "#%%\n"
    }
   },
   "outputs": [],
   "source": [
    "import chi.network\n",
    "\n",
    "net_name = \"stbl\"\n",
    "subnet_name = \"private-subnet-stbl-0\"\n",
    "router_name = \"public_router\"\n",
    "\n",
    "# automatically set up the network\n",
    "try:\n",
    "    network = chi.network.get_network(net_name)\n",
    "except RuntimeError:\n",
    "    network = chi.network.create_network(net_name)\n",
    "\n",
    "try:\n",
    "    subnet = chi.network.get_subnet(subnet_name)\n",
    "except RuntimeError:\n",
    "    subnet = chi.network.create_subnet(subnet_name, network['id'], cidr=\"10.25.32.0/24\")\n",
    "\n",
    "try:\n",
    "    router = chi.network.get_router(router_name)\n",
    "except RuntimeError:\n",
    "    # may get the error: \"IpAddressGenerationFailureClient: No more IP addresses available on network\". Delete your current\n",
    "    # router to resolve.\n",
    "    router = chi.network.create_router(router_name, \"public\")\n",
    "    chi.network.add_subnet_to_router(router['id'], subnet['id'])"
   ]
  },
  {
   "cell_type": "markdown",
   "id": "bafba5b5",
   "metadata": {
    "pycharm": {
     "name": "#%% md\n"
    }
   },
   "source": [
    "### Leases\n",
    "\n",
    "We attempt to provision the same hardware used to obtain our data, but some or all of it may not be available. If the leases by name don't work, fall back to leasing any head node. If this fails, as we aren't using any special features of the head node, we use a compute node instead. (Unfortunately Jupyter will sometimes only display the error from when it fails to find the named node and not the rest of the output, but creating the lease will still succeed.)"
   ]
  },
  {
   "cell_type": "code",
   "execution_count": null,
   "id": "2d25c3ed",
   "metadata": {
    "pycharm": {
     "name": "#%%\n"
    }
   },
   "outputs": [],
   "source": [
    "import chi.lease\n",
    "\n",
    "head_node, head_lease = [], None\n",
    "\n",
    "try:\n",
    "    chi.lease.add_node_reservation(head_node, resource_properties=[\"==\", \"$node_name\", \"snyder-a001\"], count=1)\n",
    "    head_lease = chi.lease.create_lease(\"CD_Head_Lease\", reservations=head_node)\n",
    "except:\n",
    "    print(\"falling back to a default head node\")\n",
    "\n",
    "if head_lease is None:\n",
    "    try:\n",
    "        head_node = []\n",
    "        chi.lease.add_node_reservation(head_node, node_type='indyscc_head', count=1)\n",
    "        head_lease = chi.lease.create_lease(\"CD_Head_Lease\", reservations=head_node)\n",
    "    except:\n",
    "        print(\"no head nodes available, using a default compute node instead\")\n",
    "\n",
    "# if this fails, we give up!\n",
    "if head_lease is None:\n",
    "    head_node = []\n",
    "    chi.lease.add_node_reservation(head_node, node_type='indyscc_compute', count=1)\n",
    "    head_lease = chi.lease.create_lease(\"CD_Head_Lease\", reservations=head_node)\n",
    "\n",
    "# wait for the reservation to start\n",
    "head_ready = chi.lease.wait_for_active(head_lease['id'])\n",
    "print(\"head node lease successful\")"
   ]
  },
  {
   "cell_type": "markdown",
   "id": "f3014541",
   "metadata": {},
   "source": [
    "As with the head node, if we can't get one of the copmute nodes by name then any compute nodes will have to do."
   ]
  },
  {
   "cell_type": "code",
   "execution_count": null,
   "id": "2fa8ef78",
   "metadata": {
    "pycharm": {
     "name": "#%%\n"
    }
   },
   "outputs": [],
   "source": [
    "import chi.lease\n",
    "\n",
    "compute_nodes, compute_lease = [], None\n",
    "\n",
    "try:\n",
    "    chi.lease.add_node_reservation(compute_nodes, count=1, resource_properties=[\"==\", \"$node_name\", \"rice-a470\"])\n",
    "    chi.lease.add_node_reservation(compute_nodes, count=1, resource_properties=[\"==\", \"$node_name\", \"rice-a330\"])\n",
    "    compute_lease = chi.lease.create_lease(\"CD_Compute_Lease\", reservations=compute_nodes)\n",
    "except:\n",
    "    print(\"falling back to default compute nodes\")\n",
    "\n",
    "if compute_lease is None:\n",
    "    compute_nodes = []\n",
    "    chi.lease.add_node_reservation(compute_nodes, count=2, node_type='indyscc_compute')\n",
    "    compute_lease = chi.lease.create_lease(\"CD_Compute_Lease\", reservations=compute_nodes)\n",
    "\n",
    "# wait for the reservation to start\n",
    "compute_ready = chi.lease.wait_for_active(compute_lease['id'])\n",
    "print(\"compute node lease successful\")"
   ]
  },
  {
   "cell_type": "markdown",
   "id": "da4743bf",
   "metadata": {
    "pycharm": {
     "name": "#%% md\n"
    }
   },
   "source": [
    "### Servers\n",
    "\n",
    "If you are running outside the ClusDur project you will not have our image and you may or may not have a keypair. If you do not have the 'indyscc_head-node' image change the image in this file to a stock image. You must also set the key to a previously generated keypair, or generate a new keypair via the GUI."
   ]
  },
  {
   "cell_type": "code",
   "execution_count": null,
   "id": "06a29dc9",
   "metadata": {
    "pycharm": {
     "name": "#%%\n"
    }
   },
   "outputs": [],
   "source": [
    "import chi.server, chi.lease\n",
    "\n",
    "# Project-specific default image. Replace with stock image if not run in our project.\n",
    "head_image = 'indyscc_head-node'\n",
    "compute_image = 'indyscc-compute-node'\n",
    "ssh_key = 'CHANGE_ME' # replace with your generated keypair\n",
    "\n",
    "head = chi.server.create_server(\n",
    "    \"CD_Head\",\n",
    "    reservation_id=chi.lease.get_node_reservation(head_lease['id']),\n",
    "    image_name=head_image,\n",
    "    network_name=net_name,\n",
    "    key_name=ssh_key\n",
    ")\n",
    "\n",
    "compute = chi.server.create_server(\n",
    "    \"CD_Compute\",\n",
    "    reservation_id=chi.lease.get_node_reservation(compute_lease['id']),\n",
    "    image_name=compute_image,\n",
    "    network_name=net_name,\n",
    "    key_name=ssh_key,\n",
    "    count=2\n",
    ")"
   ]
  },
  {
   "cell_type": "markdown",
   "id": "1830146c",
   "metadata": {
    "pycharm": {
     "name": "#%% md\n"
    }
   },
   "source": [
    "### Run nodes\n",
    "\n",
    "We now actually start the nodes and allocate a floating IP to the head node so we can SSH in."
   ]
  },
  {
   "cell_type": "code",
   "execution_count": null,
   "id": "46cfb17e",
   "metadata": {
    "pycharm": {
     "name": "#%%\n"
    }
   },
   "outputs": [],
   "source": [
    "import chi.server\n",
    "\n",
    "head_start = chi.server.wait_for_active(head.id)\n",
    "compute_start = chi.server.wait_for_active(compute.id)\n",
    "chi.server.associate_floating_ip(head.id)\n",
    "print(\"Instances should now be running\")"
   ]
  },
  {
   "cell_type": "markdown",
   "id": "599140ef",
   "metadata": {
    "pycharm": {
     "name": "#%% md\n"
    }
   },
   "source": [
    "## Running iperf3\n",
    "\n",
    "Unfortunately the iperf3 test between the compute nodes has to be done manually. Once you have successfully connected to the head node:\n",
    "- copy your private key to the .ssh/id_rsa file (remember to chmod 0600 on it)\n",
    "- ssh into one of the compute nodes from the head node, and run `iperf3 -s`\n",
    "- ssh into the other compute node, and run `iperf3 -c FIRST_COMP_NODE_IP -J > results.json\n",
    "- you can then copy this results file"
   ]
  },
  {
   "cell_type": "markdown",
   "id": "8518a995",
   "metadata": {
    "pycharm": {
     "name": "#%% md\n"
    }
   },
   "source": [
    "## Plotting\n",
    "\n",
    "The following code should plot the results, if you are trying to reproduce the result, replace the contents of results_closed_network.json with your results from the last step."
   ]
  },
  {
   "cell_type": "code",
   "execution_count": null,
   "id": "fc1dae12",
   "metadata": {
    "pycharm": {
     "name": "#%%\n"
    }
   },
   "outputs": [],
   "source": [
    "from matplotlib import pyplot as plt\n",
    "import json\n",
    "\n",
    "\n",
    "def read_data(file):\n",
    "    data = []\n",
    "    with open(file) as rfile:\n",
    "        rjson = rfile.read()\n",
    "        rdata = json.loads(rjson)\n",
    "        intervals = rdata[\"intervals\"]\n",
    "        for interval in intervals:\n",
    "            data.append(interval[\"sum\"][\"bits_per_second\"])\n",
    "    return data\n",
    "\n",
    "\n",
    "def plot(data):\n",
    "    plt.plot(data)\n",
    "    plt.title(\"iperf3 bandwith test on shared network\")\n",
    "    plt.xlabel(\"interval number\")\n",
    "    plt.ylabel(\"bits per second\")\n",
    "    plt.show()\n",
    "\n",
    "\n",
    "def main():\n",
    "    data = read_data(\"results_closed_network.json\")\n",
    "    plot(data)\n",
    "\n",
    "\n",
    "if __name__ == \"__main__\":\n",
    "    main()"
   ]
  }
 ],
 "metadata": {
  "kernelspec": {
   "display_name": "Python 3.9.7 64-bit",
   "language": "python",
   "name": "python3"
  },
  "language_info": {
   "codemirror_mode": {
    "name": "ipython",
    "version": 3
   },
   "file_extension": ".py",
   "mimetype": "text/x-python",
   "name": "python",
   "nbconvert_exporter": "python",
   "pygments_lexer": "ipython3",
   "version": "3.9.7"
  },
  "vscode": {
   "interpreter": {
    "hash": "bcf20e61b61f9218707ea2f693615947496fda3255def8193b0e82bc7d338318"
   }
  }
 },
 "nbformat": 4,
 "nbformat_minor": 5
}
