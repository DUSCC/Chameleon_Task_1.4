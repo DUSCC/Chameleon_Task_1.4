{
 "cells": [
  {
   "cell_type": "markdown",
   "id": "58580115",
   "metadata": {
    "jupyter": {
     "outputs_hidden": false
    },
    "pycharm": {
     "name": "#%%\n"
    },
    "tags": []
   },
   "source": [
    "# ClusDur Task 1.3 Notebook"
   ]
  },
  {
   "cell_type": "markdown",
   "id": "0f6d07d0",
   "metadata": {},
   "source": [
    "## Results\n",
    "\n",
    "![Iperf](results_isolated_net.png)"
   ]
  },
  {
   "cell_type": "markdown",
   "id": "f1bf6964",
   "metadata": {},
   "source": [
    "## Reproducing\n",
    "\n",
    "- Set up nodes using either node_setup.py if you have access to our project, or by following the notebook set up instructions below.\n",
    "- If you are using a stock image you need to manually install iperf3 on both nodes.\n",
    "- On one compute node run user@cnode1> iperf3 -s, on the other run user@cnode2> iperf3 -c $CNODE1_IP_OR_HOSTNAME -J > results.json, then store the file.\n",
    "- Replace the contents of results_closed_network.json in the artifact with your results and run the plotting cell at the bottom.\n",
    "\n",
    "## Set up nodes from this notebook.\n",
    "\n",
    "### Generic project set up"
   ]
  },
  {
   "cell_type": "code",
   "execution_count": null,
   "id": "b5753b73",
   "metadata": {},
   "outputs": [],
   "source": [
    "import chi\n",
    "\n",
    "# project set up\n",
    "chi.set('project_name', 'CHI-221014')\n",
    "chi.use_site('CHI@Purdue')"
   ]
  },
  {
   "cell_type": "markdown",
   "id": "6aac73d3",
   "metadata": {},
   "source": [
    "### Isolated Network"
   ]
  },
  {
   "cell_type": "code",
   "execution_count": null,
   "id": "deb3d0b0",
   "metadata": {},
   "outputs": [],
   "source": [
    "import chi.network\n",
    "\n",
    "net_name = \"stbl\"\n",
    "subnet_name = \"private-subnet-stbl-0\"\n",
    "rout_name = \"public_router\"\n",
    "\n",
    "# automatically set up the network\n",
    "stbl_net = chi.network.create_network(net_name)\n",
    "subnet = chi.network.create_subnet(subnet_name, chi.network.get_network_id(net_name))\n",
    "# may get the error: \"IpAddressGenerationFailureClient: No more IP addresses available on network\"\n",
    "router = chi.network.create_router(rout_name, \"public\")\n",
    "chi.network.add_subnet_to_router(chi.network.get_router_id(rout_name), chi.network.get_subnet_id(subnet_name))"
   ]
  },
  {
   "cell_type": "markdown",
   "id": "bafba5b5",
   "metadata": {},
   "source": [
    "### Leases\n",
    "\n",
    "We attempt to provision the same hardware used to obtain our data, but some or all of it may not be available. If the leases by name don't work, run the next cell as a fallback."
   ]
  },
  {
   "cell_type": "code",
   "execution_count": null,
   "id": "2d25c3ed",
   "metadata": {},
   "outputs": [],
   "source": [
    "# attempt to lease the same head node.\n",
    "\n",
    "import chi.lease\n",
    "\n",
    "head_node = []\n",
    "chi.lease.add_node_reservation(head_node, resource_properties=[\"==\", \"$node_name\", \"snyder-a003\"], count=1)\n",
    "head_lease = chi.lease.create_lease(\"CD_Head_Lease\", reservations=head_node)\n",
    "head_ready = chi.lease.wait_for_active(head_lease['id'])"
   ]
  },
  {
   "cell_type": "code",
   "execution_count": null,
   "id": "2d25c3ed",
   "metadata": {},
   "outputs": [],
   "source": [
    "# lease any head node if above failed.\n",
    "\n",
    "import chi.lease\n",
    "\n",
    "head_node = []\n",
    "chi.lease.add_node_reservation(head_node, node_type='indyscc_head', count=1)\n",
    "head_lease = chi.lease.create_lease(\"CD_Head_Lease\", reservations=head_node)\n",
    "head_ready = chi.lease.wait_for_active(head_lease['id'])"
   ]
  },
  {
   "cell_type": "code",
   "execution_count": null,
   "id": "2fa8ef78",
   "metadata": {},
   "outputs": [],
   "source": [
    "# compute node lease by node_name\n",
    "\n",
    "import chi.lease\n",
    "\n",
    "compute_nodes = []\n",
    "chi.lease.add_node_reservation(compute_nodes, count=1, resource_properties=[\"==\", \"$node_name\", \"rice-a443\"])\n",
    "chi.lease.add_node_reservation(compute_nodes, count=1, resource_properties=[\"==\", \"$node_name\", \"rice-a447\"])\n",
    "compute_lease = chi.lease.create_lease(\"CD_Compute_Lease\", reservations=compute_nodes)\n",
    "compute_ready = chi.lease.wait_for_active(compute_lease['id'])"
   ]
  },
  {
   "cell_type": "code",
   "execution_count": null,
   "id": "214d55fe",
   "metadata": {},
   "outputs": [],
   "source": [
    "# lease any compute nodes if above failed.\n",
    "\n",
    "import chi.lease\n",
    "\n",
    "compute_nodes = []\n",
    "chi.lease.add_node_reservation(compute_nodes, count=2, node_type='indyscc_compute')\n",
    "compute_lease = chi.lease.create_lease(\"CD_Compute_Lease\", reservations=compute_nodes)\n",
    "compute_ready = chi.lease.wait_for_active(compute_lease['id'])"
   ]
  },
  {
   "cell_type": "markdown",
   "id": "da4743bf",
   "metadata": {},
   "source": [
    "### Servers\n",
    "\n",
    "If you are running outside the ClusDur project you will not have our image and you may or may not have a keypair. If you do not have the 'indyscc_head-node' image change the image in this file to a stock image. You must also set the key to a previously generated keypair, or generate a new keypair via the GUI."
   ]
  },
  {
   "cell_type": "code",
   "execution_count": null,
   "id": "06a29dc9",
   "metadata": {},
   "outputs": [],
   "source": [
    "import chi.lease, chi.server\n",
    "\n",
    "# Project default image.\n",
    "image = 'indyscc_head-node' # replace with a stock image if running out of project\n",
    "key = 'CHANGE_ME' # replace with your generated keypair\n",
    "\n",
    "head = chi.server.create_server(\n",
    "    \"CD_Head\",\n",
    "    reservation_id=chi.lease.get_node_reservation(head_lease['id']),\n",
    "    image_name=image,\n",
    "    network_name=net_name,\n",
    "    key_name=key\n",
    ")\n",
    "\n",
    "compute = chi.server.create_server(\n",
    "    \"CD_Compute\",\n",
    "    reservation_id=chi.lease.get_node_reservation(compute_lease['id']),\n",
    "    image_name=image,\n",
    "    network_name=net_name,\n",
    "    key_name=key\n",
    ")\n"
   ]
  },
  {
   "cell_type": "markdown",
   "id": "1830146c",
   "metadata": {},
   "source": [
    "### Run nodes\n",
    "\n",
    "We now actually start the nodes and allocate a floating IP to the head node so we can SSH in."
   ]
  },
  {
   "cell_type": "code",
   "execution_count": null,
   "id": "46cfb17e",
   "metadata": {},
   "outputs": [],
   "source": [
    "import chi.server\n",
    "\n",
    "hserv_start = chi.server.wait_for_active(head.id)\n",
    "cserv_start = chi.server.wait_for_active(compute.id)\n",
    "chi.server.associate_floating_ip(head.id)\n",
    "print(\"Instances should now be running\")"
   ]
  },
  {
   "cell_type": "markdown",
   "id": "599140ef",
   "metadata": {},
   "source": [
    "## Running iperf3\n",
    "\n",
    "Unfortunately the iperf3 test between the compute nodes has to be done manually, assuming your ssh key is set up correctly you will have to ssh into the head node. Then log in to one compute node and run iperf -s, and run iperf3 -c $CNODE1_IP_OR_HOSTNAME -J > results.json on the other."
   ]
  },
  {
   "cell_type": "markdown",
   "id": "8518a995",
   "metadata": {},
   "source": [
    "## Plotting\n",
    "\n",
    "The following code should plot the results, if you are trying to reproduce, replace the contents of results_closed_network.json with your results from the last step."
   ]
  },
  {
   "cell_type": "code",
   "execution_count": null,
   "id": "fc1dae12",
   "metadata": {},
   "outputs": [],
   "source": [
    "from matplotlib import pyplot as plt\n",
    "import json\n",
    "\n",
    "\n",
    "def read_data(file):\n",
    "    data = []\n",
    "    with open(file) as rfile:\n",
    "        rjson = rfile.read()\n",
    "        rdata = json.loads(rjson)\n",
    "        intervals = rdata[\"intervals\"]\n",
    "        for interval in intervals:\n",
    "            data.append(interval[\"sum\"][\"bits_per_second\"])\n",
    "    return data\n",
    "\n",
    "\n",
    "def plot(data):\n",
    "    plt.plot(data)\n",
    "    plt.xlabel(\"interval number\")\n",
    "    plt.ylabel(\"bits per second\")\n",
    "    plt.show()\n",
    "\n",
    "\n",
    "def main():\n",
    "    data = read_data(\"results_closed_network.json\")\n",
    "    plot(data)\n",
    "\n",
    "\n",
    "if __name__ == \"__main__\":\n",
    "    main()"
   ]
  }
 ],
 "metadata": {
  "kernelspec": {
   "display_name": "Python 3.8.5 64-bit ('3.8.5')",
   "language": "python",
   "name": "python3"
  },
  "language_info": {
   "codemirror_mode": {
    "name": "ipython",
    "version": 3
   },
   "file_extension": ".py",
   "mimetype": "text/x-python",
   "name": "python",
   "nbconvert_exporter": "python",
   "pygments_lexer": "ipython3",
   "version": "3.8.5"
  },
  "vscode": {
   "interpreter": {
    "hash": "4b794436a19db3b9a981679f88854c4471db8a975ef11a85012f17400fad8814"
   }
  }
 },
 "nbformat": 4,
 "nbformat_minor": 5
}
