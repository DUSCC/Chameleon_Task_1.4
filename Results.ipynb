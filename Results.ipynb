{
 "cells": [
  {
   "cell_type": "markdown",
   "id": "58580115",
   "metadata": {
    "jupyter": {
     "outputs_hidden": false
    },
    "pycharm": {
     "name": "#%%\n"
    },
    "tags": []
   },
   "source": [
    "# ClusDur Task 1.3 Notebook"
   ]
  },
  {
   "cell_type": "markdown",
   "id": "0f6d07d0",
   "metadata": {},
   "source": [
    "## Results\n",
    "\n",
    "![Iperf](results_isolated_net.png)"
   ]
  },
  {
   "cell_type": "markdown",
   "id": "f1bf6964",
   "metadata": {},
   "source": [
    "## Reproducing\n",
    "\n",
    "- Set up nodes using either node_setup.py if you have access to our project, or by following the manual set up instructions below.\n",
    "- If you are using a stock image you need to manually install iperf3 on both nodes.\n",
    "- On one compute node run user@cnode1> iperf3 -s, on the other run user@cnode2> iperf3 -c $CNODE1_IP_OR_HOSTNAME -J > results.json, then store the file.\n",
    "- Run ./plot_results.py results.json to generate a plot."
   ]
  },
  {
   "cell_type": "markdown",
   "id": "bafba5b5",
   "metadata": {},
   "source": [
    "## Manual node set up\n",
    "\n",
    "- Generate a keypair 'my_keypair' from the GUI, and use a stock CC-Centos8-stream image instead of our image. The following section of node_setup.py should be modified to use the keypair and image."
   ]
  },
  {
   "cell_type": "code",
   "execution_count": null,
   "id": "06a29dc9",
   "metadata": {},
   "outputs": [],
   "source": [
    "# outside the ClusDur project replace the image_name and key_name with a stock image and a generated keypair respectively.\n",
    "\n",
    "head = chi.server.create_server(\n",
    "    \"CD_Head\",\n",
    "    reservation_id=chi.lease.get_node_reservation(head_lease['id']),\n",
    "    image_name='indyscc_head-node',\n",
    "    network_name='stbl',\n",
    "    key_name=\"Test_ssh\"\n",
    ")\n",
    "\n",
    "compute = chi.server.create_server(\n",
    "    \"CD_Compute\",\n",
    "    reservation_id=chi.lease.get_node_reservation(compute_lease['id']),\n",
    "    image_name='indyscc_head-node',\n",
    "    network_name='stbl',\n",
    "    key_name=\"Test_ssh\"\n",
    ")\n"
   ]
  }
 ],
 "metadata": {
  "kernelspec": {
   "display_name": "Python 3.8.5 64-bit ('3.8.5')",
   "language": "python",
   "name": "python3"
  },
  "language_info": {
   "codemirror_mode": {
    "name": "ipython",
    "version": 3
   },
   "file_extension": ".py",
   "mimetype": "text/x-python",
   "name": "python",
   "nbconvert_exporter": "python",
   "pygments_lexer": "ipython3",
   "version": "3.8.5"
  },
  "vscode": {
   "interpreter": {
    "hash": "4b794436a19db3b9a981679f88854c4471db8a975ef11a85012f17400fad8814"
   }
  }
 },
 "nbformat": 4,
 "nbformat_minor": 5
}
